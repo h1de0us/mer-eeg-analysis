{
 "cells": [
  {
   "cell_type": "code",
   "execution_count": 51,
   "metadata": {},
   "outputs": [],
   "source": [
    "import dgl\n",
    "import numpy as np\n",
    "import networkx as nx\n",
    "\n",
    "import torch\n",
    "from torch import nn"
   ]
  },
  {
   "cell_type": "markdown",
   "metadata": {},
   "source": [
    "### Creating a dgl graph from connectivity matrix"
   ]
  },
  {
   "cell_type": "code",
   "execution_count": 7,
   "metadata": {},
   "outputs": [
    {
     "data": {
      "text/plain": [
       "(32, 32, 5)"
      ]
     },
     "execution_count": 7,
     "metadata": {},
     "output_type": "execute_result"
    }
   ],
   "source": [
    "TEST_PATH = \"/Users/h1de0us/uni/mer-eeg-analysis/data/deap_filtered/s01_plv.npy\"\n",
    "connectivity_matrix = np.load(TEST_PATH)\n",
    "connectivity_matrix.shape"
   ]
  },
  {
   "cell_type": "code",
   "execution_count": 8,
   "metadata": {},
   "outputs": [
    {
     "data": {
      "text/plain": [
       "array([[0.        , 0.        , 0.        , ..., 0.        , 0.        ,\n",
       "        0.        ],\n",
       "       [0.57803585, 0.        , 0.        , ..., 0.        , 0.        ,\n",
       "        0.        ],\n",
       "       [0.33041863, 0.56471143, 0.        , ..., 0.        , 0.        ,\n",
       "        0.        ],\n",
       "       ...,\n",
       "       [0.28629317, 0.28253806, 0.27283744, ..., 0.        , 0.        ,\n",
       "        0.        ],\n",
       "       [0.34106162, 0.56037416, 0.60070708, ..., 0.27732514, 0.        ,\n",
       "        0.        ],\n",
       "       [0.37746005, 0.45468193, 0.43395707, ..., 0.25628626, 0.71649264,\n",
       "        0.        ]])"
      ]
     },
     "execution_count": 8,
     "metadata": {},
     "output_type": "execute_result"
    }
   ],
   "source": [
    "connectivity_matrix = connectivity_matrix[:, :, -1]\n",
    "connectivity_matrix"
   ]
  },
  {
   "cell_type": "code",
   "execution_count": 42,
   "metadata": {},
   "outputs": [],
   "source": [
    "threshold = 0.3\n",
    "connectivity_matrix[connectivity_matrix < threshold] = 0 # remove weak connections\n",
    "connectivity_matrix += np.rot90(np.fliplr(connectivity_matrix)) # make the matrix symmetric"
   ]
  },
  {
   "cell_type": "code",
   "execution_count": 43,
   "metadata": {},
   "outputs": [],
   "source": [
    "nx_graph = nx.from_numpy_array(connectivity_matrix)\n",
    "nx_graph = nx_graph.to_directed()\n"
   ]
  },
  {
   "cell_type": "code",
   "execution_count": 44,
   "metadata": {},
   "outputs": [
    {
     "data": {
      "text/plain": [
       "426"
      ]
     },
     "execution_count": 44,
     "metadata": {},
     "output_type": "execute_result"
    }
   ],
   "source": [
    "nx_graph.number_of_edges()"
   ]
  },
  {
   "cell_type": "code",
   "execution_count": 45,
   "metadata": {},
   "outputs": [
    {
     "data": {
      "text/plain": [
       "Graph(num_nodes=32, num_edges=426,\n",
       "      ndata_schemes={}\n",
       "      edata_schemes={'weight': Scheme(shape=(), dtype=torch.float32)})"
      ]
     },
     "execution_count": 45,
     "metadata": {},
     "output_type": "execute_result"
    }
   ],
   "source": [
    "dgl_graph = dgl.from_networkx(nx_graph, edge_attrs=['weight'])\n",
    "dgl_graph"
   ]
  },
  {
   "cell_type": "markdown",
   "metadata": {},
   "source": [
    "### Centrality encoding"
   ]
  },
  {
   "cell_type": "code",
   "execution_count": 52,
   "metadata": {},
   "outputs": [],
   "source": [
    "n_nodes = dgl_graph.number_of_nodes()\n",
    "dim_feedforward = 64\n",
    "\n",
    "centrality_encoding = nn.Embedding(n_nodes, dim_feedforward)"
   ]
  },
  {
   "cell_type": "code",
   "execution_count": 47,
   "metadata": {},
   "outputs": [
    {
     "data": {
      "text/plain": [
       "torch.Size([32])"
      ]
     },
     "execution_count": 47,
     "metadata": {},
     "output_type": "execute_result"
    }
   ],
   "source": [
    "dgl_graph.in_degrees().shape"
   ]
  },
  {
   "cell_type": "code",
   "execution_count": 53,
   "metadata": {},
   "outputs": [
    {
     "data": {
      "text/plain": [
       "torch.Size([32, 64])"
      ]
     },
     "execution_count": 53,
     "metadata": {},
     "output_type": "execute_result"
    }
   ],
   "source": [
    "centrality = centrality_encoding(dgl_graph.in_degrees())\n",
    "centrality.shape # (n_nodes, dim_feedforward)"
   ]
  },
  {
   "cell_type": "markdown",
   "metadata": {},
   "source": [
    "### Spatial encoding"
   ]
  },
  {
   "cell_type": "code",
   "execution_count": 54,
   "metadata": {},
   "outputs": [],
   "source": [
    "n_heads = 4\n",
    "spatial_encoding = nn.Embedding(n_nodes, n_heads)"
   ]
  },
  {
   "cell_type": "code",
   "execution_count": 55,
   "metadata": {},
   "outputs": [
    {
     "data": {
      "text/plain": [
       "torch.Size([32, 32])"
      ]
     },
     "execution_count": 55,
     "metadata": {},
     "output_type": "execute_result"
    }
   ],
   "source": [
    "spd = dgl.shortest_dist(dgl_graph)\n",
    "spd.shape"
   ]
  },
  {
   "cell_type": "code",
   "execution_count": 57,
   "metadata": {},
   "outputs": [
    {
     "data": {
      "text/plain": [
       "torch.Size([32, 32, 4])"
      ]
     },
     "execution_count": 57,
     "metadata": {},
     "output_type": "execute_result"
    }
   ],
   "source": [
    "spatial = spatial_encoding(spd)\n",
    "spatial.shape # (n_nodes, n_nodes, n_heads)"
   ]
  },
  {
   "cell_type": "markdown",
   "metadata": {},
   "source": [
    "### Edge encoding"
   ]
  },
  {
   "cell_type": "code",
   "execution_count": 64,
   "metadata": {},
   "outputs": [
    {
     "data": {
      "text/plain": [
       "tensor([ 1, -1, -1])"
      ]
     },
     "execution_count": 64,
     "metadata": {},
     "output_type": "execute_result"
    }
   ],
   "source": [
    "spd, paths = dgl.shortest_dist(dgl_graph, return_paths=True)\n",
    "paths[0, 2] # Each path is a vector that consists of edge IDs with paddings of -1 at the end. (via documentation)"
   ]
  },
  {
   "cell_type": "code",
   "execution_count": 66,
   "metadata": {},
   "outputs": [
    {
     "data": {
      "text/plain": [
       "tensor([1])"
      ]
     },
     "execution_count": 66,
     "metadata": {},
     "output_type": "execute_result"
    }
   ],
   "source": [
    "path = paths[0, 2]\n",
    "path = path[path >= 0]\n",
    "path"
   ]
  },
  {
   "cell_type": "code",
   "execution_count": 68,
   "metadata": {},
   "outputs": [],
   "source": [
    "edge_encoder = nn.Embedding(n_nodes ** 2, n_heads)\n",
    "edge_features = dgl_graph.edata['weight']"
   ]
  },
  {
   "cell_type": "code",
   "execution_count": 79,
   "metadata": {},
   "outputs": [
    {
     "data": {
      "text/plain": [
       "(tensor([ 0.9240,  0.2532, -0.2192,  0.0430], grad_fn=<MeanBackward1>),\n",
       " torch.Size([4]))"
      ]
     },
     "execution_count": 79,
     "metadata": {},
     "output_type": "execute_result"
    }
   ],
   "source": [
    "i, j = 12, 24\n",
    "\n",
    "_, path = dgl.shortest_dist(dgl_graph, i, return_paths=True)\n",
    "# path is a sequence of nodes, len(path) == max_path \n",
    "# -1 is a padding value\n",
    "path = path[j]\n",
    "path = path[path >= 0] # remove padding\n",
    "edge_embeds = edge_encoder(path) # (n_spd, n_heads)\n",
    "spd_features = edge_features[path] # (n_spd)\n",
    "result = torch.mean(edge_embeds * spd_features.unsqueeze(-1), dim=0)\n",
    "result, result.shape"
   ]
  },
  {
   "cell_type": "code",
   "execution_count": null,
   "metadata": {},
   "outputs": [],
   "source": []
  }
 ],
 "metadata": {
  "kernelspec": {
   "display_name": "coursework",
   "language": "python",
   "name": "python3"
  },
  "language_info": {
   "codemirror_mode": {
    "name": "ipython",
    "version": 3
   },
   "file_extension": ".py",
   "mimetype": "text/x-python",
   "name": "python",
   "nbconvert_exporter": "python",
   "pygments_lexer": "ipython3",
   "version": "3.10.13"
  }
 },
 "nbformat": 4,
 "nbformat_minor": 2
}
