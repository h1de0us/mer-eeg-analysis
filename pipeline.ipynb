{
 "cells": [
  {
   "cell_type": "markdown",
   "metadata": {},
   "source": [
    "### DEAP preprocessing: connectivity estimation"
   ]
  },
  {
   "cell_type": "code",
   "execution_count": 2,
   "metadata": {},
   "outputs": [
    {
     "name": "stdout",
     "output_type": "stream",
     "text": [
      "100%|███████████████████████████████████████████| 32/32 [01:45<00:00,  3.29s/it]\n"
     ]
    }
   ],
   "source": [
    "!python3 connectivity/src/parse_deap.py --method plv --duration 3 >/dev/null"
   ]
  },
  {
   "cell_type": "code",
   "execution_count": 3,
   "metadata": {},
   "outputs": [
    {
     "name": "stdout",
     "output_type": "stream",
     "text": [
      "100%|███████████████████████████████████████████| 32/32 [01:40<00:00,  3.14s/it]\n"
     ]
    }
   ],
   "source": [
    "!python3 connectivity/src/parse_deap.py --method pli --duration 5 >/dev/null"
   ]
  },
  {
   "cell_type": "code",
   "execution_count": 4,
   "metadata": {},
   "outputs": [
    {
     "name": "stdout",
     "output_type": "stream",
     "text": [
      "100%|███████████████████████████████████████████| 32/32 [02:10<00:00,  4.08s/it]\n"
     ]
    }
   ],
   "source": [
    "!python3 connectivity/src/parse_deap.py --method coh --duration 10 >/dev/null"
   ]
  },
  {
   "cell_type": "code",
   "execution_count": null,
   "metadata": {},
   "outputs": [],
   "source": []
  },
  {
   "cell_type": "markdown",
   "metadata": {},
   "source": [
    "### Extracting topological features from connectivity matrices"
   ]
  },
  {
   "cell_type": "code",
   "execution_count": 4,
   "metadata": {},
   "outputs": [
    {
     "name": "stdout",
     "output_type": "stream",
     "text": [
      "100%|███████████████████████████████████████████| 32/32 [01:55<00:00,  3.60s/it]\n"
     ]
    }
   ],
   "source": [
    "!python3 tda/src/process_data.py --method plv --duration 3 --output plv.csv > /dev/null"
   ]
  },
  {
   "cell_type": "code",
   "execution_count": 5,
   "metadata": {},
   "outputs": [
    {
     "name": "stdout",
     "output_type": "stream",
     "text": [
      "100%|███████████████████████████████████████████| 32/32 [01:55<00:00,  3.59s/it]\n"
     ]
    }
   ],
   "source": [
    "!python3 tda/src/process_data.py --method pli --duration 5 --output pli.csv > /dev/null"
   ]
  },
  {
   "cell_type": "code",
   "execution_count": 6,
   "metadata": {},
   "outputs": [
    {
     "name": "stdout",
     "output_type": "stream",
     "text": [
      "100%|███████████████████████████████████████████| 32/32 [01:54<00:00,  3.59s/it]\n"
     ]
    }
   ],
   "source": [
    "!python3 tda/src/process_data.py --method coh --duration 10 --output coh.csv > /dev/null"
   ]
  },
  {
   "cell_type": "markdown",
   "metadata": {},
   "source": []
  }
 ],
 "metadata": {
  "kernelspec": {
   "display_name": "coursework",
   "language": "python",
   "name": "python3"
  },
  "language_info": {
   "codemirror_mode": {
    "name": "ipython",
    "version": 3
   },
   "file_extension": ".py",
   "mimetype": "text/x-python",
   "name": "python",
   "nbconvert_exporter": "python",
   "pygments_lexer": "ipython3",
   "version": "3.10.13"
  }
 },
 "nbformat": 4,
 "nbformat_minor": 2
}
