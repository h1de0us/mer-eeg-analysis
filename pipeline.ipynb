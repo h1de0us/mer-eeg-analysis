{
 "cells": [
  {
   "cell_type": "markdown",
   "metadata": {},
   "source": [
    "### DEAP preprocessing: connectivity estimation"
   ]
  },
  {
   "cell_type": "code",
   "execution_count": 2,
   "metadata": {},
   "outputs": [
    {
     "name": "stdout",
     "output_type": "stream",
     "text": [
      "100%|███████████████████████████████████████████| 32/32 [01:45<00:00,  3.29s/it]\n"
     ]
    }
   ],
   "source": [
    "!python3 connectivity/src/parse_deap.py --method plv --duration 3 >/dev/null"
   ]
  },
  {
   "cell_type": "code",
   "execution_count": 3,
   "metadata": {},
   "outputs": [
    {
     "name": "stdout",
     "output_type": "stream",
     "text": [
      "100%|███████████████████████████████████████████| 32/32 [01:40<00:00,  3.14s/it]\n"
     ]
    }
   ],
   "source": [
    "!python3 connectivity/src/parse_deap.py --method pli --duration 5 >/dev/null"
   ]
  },
  {
   "cell_type": "code",
   "execution_count": 4,
   "metadata": {},
   "outputs": [
    {
     "name": "stdout",
     "output_type": "stream",
     "text": [
      "100%|███████████████████████████████████████████| 32/32 [02:10<00:00,  4.08s/it]\n"
     ]
    }
   ],
   "source": [
    "!python3 connectivity/src/parse_deap.py --method coh --duration 10 >/dev/null"
   ]
  },
  {
   "cell_type": "code",
   "execution_count": null,
   "metadata": {},
   "outputs": [],
   "source": []
  },
  {
   "cell_type": "markdown",
   "metadata": {},
   "source": [
    "### Extracting topological features from connectivity matrices"
   ]
  },
  {
   "cell_type": "code",
   "execution_count": 7,
   "metadata": {},
   "outputs": [
    {
     "name": "stdout",
     "output_type": "stream",
     "text": [
      "100%|███████████████████████████████████████████| 32/32 [01:49<00:00,  3.42s/it]\n"
     ]
    }
   ],
   "source": [
    "!python3 tda/src/process_data.py --method plv --duration 3 --output plv.csv > /dev/null"
   ]
  },
  {
   "cell_type": "code",
   "execution_count": 10,
   "metadata": {},
   "outputs": [
    {
     "name": "stdout",
     "output_type": "stream",
     "text": [
      "100%|███████████████████████████████████████████| 32/32 [05:12<00:00,  9.77s/it]\n"
     ]
    }
   ],
   "source": [
    "!python3 tda/src/process_data.py --method pli --duration 5 --output pli.csv > /dev/null"
   ]
  },
  {
   "cell_type": "code",
   "execution_count": 11,
   "metadata": {},
   "outputs": [
    {
     "name": "stdout",
     "output_type": "stream",
     "text": [
      "100%|███████████████████████████████████████████| 32/32 [03:31<00:00,  6.62s/it]\n"
     ]
    }
   ],
   "source": [
    "!python3 tda/src/process_data.py --method coh --duration 10 --output coh.csv > /dev/null"
   ]
  },
  {
   "cell_type": "markdown",
   "metadata": {},
   "source": []
  }
 ],
 "metadata": {
  "kernelspec": {
   "display_name": "coursework",
   "language": "python",
   "name": "python3"
  },
  "language_info": {
   "codemirror_mode": {
    "name": "ipython",
    "version": 3
   },
   "file_extension": ".py",
   "mimetype": "text/x-python",
   "name": "python",
   "nbconvert_exporter": "python",
   "pygments_lexer": "ipython3",
   "version": "3.10.13"
  }
 },
 "nbformat": 4,
 "nbformat_minor": 2
}
